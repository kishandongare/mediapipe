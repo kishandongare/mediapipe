{
 "cells": [
  {
   "cell_type": "markdown",
   "metadata": {},
   "source": [
    "# Palm Detection Model"
   ]
  },
  {
   "cell_type": "markdown",
   "metadata": {},
   "source": [
    "NAME - KISHAN DONGARE(B TECH IT)\n"
   ]
  },
  {
   "cell_type": "markdown",
   "metadata": {},
   "source": [
    "Hand Landmark Model"
   ]
  },
  {
   "cell_type": "code",
   "execution_count": 10,
   "metadata": {},
   "outputs": [],
   "source": [
    "import mediapipe as mp\n",
    "import cv2"
   ]
  },
  {
   "cell_type": "code",
   "execution_count": 11,
   "metadata": {},
   "outputs": [
    {
     "data": {
      "application/vnd.jupyter.widget-view+json": {
       "model_id": "00872359bbb44ab88f2f4ce1bc47a232",
       "version_major": 2,
       "version_minor": 0
      },
      "text/plain": [
       "Image(value=b'\\x89PNG\\r\\n\\x1a\\n\\x00\\x00\\x00\\rIHDR\\x00\\x00\\x06\\x07\\x00\\x00\\x02\\x1a\\x08\\x06\\x00\\x00\\x00\\x040\\x9d…"
      ]
     },
     "metadata": {},
     "output_type": "display_data"
    }
   ],
   "source": [
    "import requests\n",
    "from ipywidgets import Image\n",
    "\n",
    "Image(value=requests.get('https://google.github.io/mediapipe/images/mobile/hand_landmarks.png').content)"
   ]
  },
  {
   "cell_type": "code",
   "execution_count": null,
   "metadata": {},
   "outputs": [],
   "source": [
    "https://google.github.io/mediapipe/solutions/hands.html"
   ]
  },
  {
   "cell_type": "markdown",
   "metadata": {},
   "source": [
    "Create an instance of the hands module provided by Mediapipe followed by an instance of Mediapipe’s drawing utility. The drawing utility helps to draw those 21 landmarks and the lines connecting those landmarks on your image or frame"
   ]
  },
  {
   "cell_type": "markdown",
   "metadata": {},
   "source": [
    "In the above piece of code, we declare an object called “hands_mesh” from mp.solutions.hand to detect the hands, in default,i was using  “Hands()“ And i will use draw to draw the key points."
   ]
  },
  {
   "cell_type": "code",
   "execution_count": 12,
   "metadata": {},
   "outputs": [],
   "source": [
    "capture = cv2.VideoCapture(0)\n",
    "\n",
    "hands = mp.solutions.hands\n",
    "hands_mesh = hands.Hands()\n",
    "draw = mp.solutions.drawing_utils\n",
    "\n",
    "\n",
    "while True:\n",
    "    ret,frame = capture.read()#ret is a boolean variable that returns true if the frame is available\n",
    "    rgb = cv2.cvtColor(frame, cv2.COLOR_BGR2RGB) #we read the frames from the webcam and convert the image to RGB\n",
    "\n",
    "    op = hands_mesh.process(rgb)#Then we detect hands in the frame with the help of “hands.process()”  function.\n",
    "\n",
    "    if op.multi_hand_landmarks:\n",
    "        for i in op.multi_hand_landmarks:\n",
    "            draw.draw_landmarks(frame,i,hands.HAND_CONNECTIONS)  \n",
    "    cv2.imshow('Camera',frame)\n",
    "    if ret == True: #check frame is available or not\n",
    "        if cv2.waitKey(1) == ord('q'): #if we press q then window is quit\n",
    "            break          \n",
    "capture.release() # release video capture\n",
    "cv2.destroyAllWindows()"
   ]
  },
  {
   "cell_type": "markdown",
   "metadata": {},
   "source": [
    "We then draw the landmarks with a call to the draw_landmarks function from the drawing_utils module. As first input we pass the image where we want to draw the landmarks. As second input we pass the list of hand landmarks of the hand.\n",
    "\n",
    "As third input of the draw_landmarks function we will pass an optional parameter that corresponds to a list that indicates how landmarks connect to each other, which will allow to draw these connections between them as lines."
   ]
  },
  {
   "cell_type": "markdown",
   "metadata": {},
   "source": [
    "If any hand was detected, we will then iterate through each detection and use the draw_landmarks function from the drawing_utils method to draw the landmarks in the image. Note that we will draw the landmarks over the BGR image we originally obtained because we are going to display it in an OpenCV window, which expects this format."
   ]
  }
 ],
 "metadata": {
  "kernelspec": {
   "display_name": "Python 3",
   "language": "python",
   "name": "python3"
  },
  "language_info": {
   "codemirror_mode": {
    "name": "ipython",
    "version": 3
   },
   "file_extension": ".py",
   "mimetype": "text/x-python",
   "name": "python",
   "nbconvert_exporter": "python",
   "pygments_lexer": "ipython3",
   "version": "3.7.0"
  }
 },
 "nbformat": 4,
 "nbformat_minor": 4
}

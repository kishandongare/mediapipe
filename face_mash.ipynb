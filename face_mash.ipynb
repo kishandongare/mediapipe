{
 "cells": [
  {
   "cell_type": "markdown",
   "metadata": {},
   "source": [
    "# MediaPipe Face Mesh"
   ]
  },
  {
   "cell_type": "code",
   "execution_count": null,
   "metadata": {},
   "outputs": [],
   "source": [
    "https://google.github.io/mediapipe/solutions/face_mesh.html"
   ]
  },
  {
   "cell_type": "code",
   "execution_count": 7,
   "metadata": {},
   "outputs": [],
   "source": [
    "import mediapipe as mp\n",
    "import cv2"
   ]
  },
  {
   "cell_type": "code",
   "execution_count": 10,
   "metadata": {},
   "outputs": [],
   "source": [
    "capture = cv2.VideoCapture(0)\n",
    "\n",
    "facemesh = mp.solutions.face_mesh\n",
    "face = facemesh.FaceMesh()\n",
    "draw = mp.solutions.drawing_utils\n",
    "\n",
    "\n",
    "while True:\n",
    "    ret,frame = capture.read()#ret is a boolean variable that returns true if the frame is available\n",
    "    rgb = cv2.cvtColor(frame, cv2.COLOR_BGR2RGB) #we read the frames from the webcam and convert the image to RGB\n",
    "    op = face.process(rgb)\n",
    "    if op.multi_face_landmarks:\n",
    "        for i in op.multi_face_landmarks:\n",
    "            draw.draw_landmarks(frame, i, facemesh.FACE_CONNECTIONS)\n",
    "     \n",
    "    cv2.imshow('Camera',frame)\n",
    "    if ret == True: #check frame is available or not\n",
    "        if cv2.waitKey(1) == ord('q'): #if we press q then window is quit\n",
    "            break          \n",
    "capture.release() # release video capture\n",
    "cv2.destroyAllWindows()"
   ]
  },
  {
   "cell_type": "code",
   "execution_count": null,
   "metadata": {},
   "outputs": [],
   "source": []
  }
 ],
 "metadata": {
  "kernelspec": {
   "display_name": "Python 3",
   "language": "python",
   "name": "python3"
  },
  "language_info": {
   "codemirror_mode": {
    "name": "ipython",
    "version": 3
   },
   "file_extension": ".py",
   "mimetype": "text/x-python",
   "name": "python",
   "nbconvert_exporter": "python",
   "pygments_lexer": "ipython3",
   "version": "3.7.0"
  }
 },
 "nbformat": 4,
 "nbformat_minor": 4
}
